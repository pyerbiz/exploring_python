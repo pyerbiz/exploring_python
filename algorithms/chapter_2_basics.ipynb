{
 "cells": [
  {
   "cell_type": "markdown",
   "id": "c5c16f27-981b-49f0-a7a6-a67fcc142772",
   "metadata": {},
   "source": [
    "## This notebook is about the basic stuff in algorithms -- using Python\n",
    "\n",
    "- important modules: cProfile, timeit\n",
    "- simple implementation of data structures like list\n",
    "- some graph algorithms"
   ]
  },
  {
   "cell_type": "code",
   "execution_count": 4,
   "id": "f825e794-174b-44d3-bc38-ae19aa5e03f7",
   "metadata": {},
   "outputs": [],
   "source": [
    "# linked list\n",
    "# lessons learned: important to note here that the inner arguments are class instances themselves. Hence when you use `next.value`\\\n",
    "#                   you are calling a nested class instance that has a value assigned. If you keep calling next -- you will reach the end of the linked list, \n",
    "#                    and the last element's value is none\n",
    "\n",
    "# accesing an element in linked list is slow (traverse the list from beginning) -- inserting an item is fast\n",
    "# directly accessing an element in array is fast -- inserting an item is slow. append an item at end of array can be made fast with 'dynamic array/vector' \n",
    "# -- where you take a large enough list such that it can be reallocated in memory when it overflows.\n",
    "\n",
    "\n",
    "\n",
    "        "
   ]
  },
  {
   "cell_type": "code",
   "execution_count": null,
   "id": "0d3a93b1-0f2e-4b5d-a382-a306a3f215e3",
   "metadata": {},
   "outputs": [],
   "source": [
    "class Node: \n",
    "    \n",
    "    def __init__(self, value,next_=None):\n",
    "        self.value=value\n",
    "        self.next=next_"
   ]
  },
  {
   "cell_type": "code",
   "execution_count": 5,
   "id": "15fba9f1-8ee0-43d1-a36d-63d15529fc88",
   "metadata": {},
   "outputs": [],
   "source": [
    "L=Node(1)"
   ]
  },
  {
   "cell_type": "code",
   "execution_count": 6,
   "id": "3178de6f-334b-43e7-908b-60dd2a5f9762",
   "metadata": {},
   "outputs": [
    {
     "data": {
      "text/plain": [
       "1"
      ]
     },
     "execution_count": 6,
     "metadata": {},
     "output_type": "execute_result"
    }
   ],
   "source": [
    "L.value"
   ]
  },
  {
   "cell_type": "code",
   "execution_count": 7,
   "id": "2c5da85b-ba07-4833-8adb-88228109a11b",
   "metadata": {},
   "outputs": [],
   "source": [
    "# enter data into a linked list\n",
    "\n",
    "LL = Node(1,Node(2, Node(3, Node(4, Node(5)))))\n",
    "\n"
   ]
  },
  {
   "cell_type": "code",
   "execution_count": 13,
   "id": "4852b25f-3051-47d7-89fe-9ff9b4eb7919",
   "metadata": {},
   "outputs": [
    {
     "data": {
      "text/plain": [
       "1"
      ]
     },
     "execution_count": 13,
     "metadata": {},
     "output_type": "execute_result"
    }
   ],
   "source": [
    "LL.value"
   ]
  },
  {
   "cell_type": "code",
   "execution_count": 16,
   "id": "6ed7f745-447d-43fa-8bdb-f4c095891b02",
   "metadata": {},
   "outputs": [
    {
     "name": "stdout",
     "output_type": "stream",
     "text": [
      "1\n",
      "2\n",
      "3\n",
      "4\n",
      "5\n"
     ]
    }
   ],
   "source": [
    "print(LL.value)\n",
    "print(LL.next.value)\n",
    "print(LL.next.next.value)\n",
    "print(LL.next.next.next.value)\n",
    "print(LL.next.next.next.next.value)"
   ]
  },
  {
   "cell_type": "code",
   "execution_count": 17,
   "id": "ebf66402-389c-48e6-bc41-a41927b3111b",
   "metadata": {},
   "outputs": [
    {
     "name": "stdout",
     "output_type": "stream",
     "text": [
      "1\n",
      "<__main__.Node object at 0x000001CF2B0C8D00>\n",
      "<__main__.Node object at 0x000001CF2B0C8AF0>\n",
      "<__main__.Node object at 0x000001CF2B0C87F0>\n",
      "<__main__.Node object at 0x000001CF2B0C88B0>\n"
     ]
    }
   ],
   "source": [
    "print(LL.value)\n",
    "print(LL.next)\n",
    "print(LL.next.next)\n",
    "print(LL.next.next.next)\n",
    "print(LL.next.next.next.next)"
   ]
  },
  {
   "cell_type": "code",
   "execution_count": 21,
   "id": "54a78ca7-ea77-4e93-9688-91503ad5b094",
   "metadata": {},
   "outputs": [
    {
     "name": "stdout",
     "output_type": "stream",
     "text": [
      "None\n"
     ]
    }
   ],
   "source": [
    "print(LL.next.next.next.next.next)"
   ]
  },
  {
   "cell_type": "markdown",
   "id": "1c37acfe-b9ae-418a-912e-79d0b8306225",
   "metadata": {},
   "source": [
    "--------------------------------------------------------------------"
   ]
  },
  {
   "cell_type": "code",
   "execution_count": 22,
   "id": "82f15a5b-1d5c-4c29-b7c0-236d6c166ed9",
   "metadata": {},
   "outputs": [],
   "source": [
    "import timeit\n",
    "# Caution:\n",
    "# repeated execution side effects (sorting a list)"
   ]
  },
  {
   "cell_type": "code",
   "execution_count": 23,
   "id": "d452977b-2a81-4dfc-a92b-3165054df8ac",
   "metadata": {},
   "outputs": [
    {
     "data": {
      "text/plain": [
       "0.027243700000099125"
      ]
     },
     "execution_count": 23,
     "metadata": {},
     "output_type": "execute_result"
    }
   ],
   "source": [
    "timeit.timeit(\"x=2+2\")"
   ]
  },
  {
   "cell_type": "code",
   "execution_count": 24,
   "id": "4842fc32-3a70-444b-bb40-b088ed33edae",
   "metadata": {},
   "outputs": [],
   "source": [
    "import cProfile"
   ]
  },
  {
   "cell_type": "code",
   "execution_count": 29,
   "id": "3f4221c2-fc5d-40a9-a2d5-8cfd3c933557",
   "metadata": {},
   "outputs": [],
   "source": [
    "def A():\n",
    "    print (\"I'm A I just, call B\")\n",
    "    B(1000000)\n",
    "    print (\"B is done with the task\")\n",
    "    return 0\n",
    "\n",
    "def B(num):\n",
    "    \n",
    "    print (\"I'm B i just took work from A\")\n",
    "    for i in range(num):\n",
    "        f=i/10\n",
    "    \n",
    "    return 0\n",
    "    \n",
    "    \n",
    "    "
   ]
  },
  {
   "cell_type": "code",
   "execution_count": 30,
   "id": "f221b12a-5bba-435c-9f43-853752126a2e",
   "metadata": {},
   "outputs": [
    {
     "name": "stdout",
     "output_type": "stream",
     "text": [
      "I'm A I just, call B\n",
      "I'm B i just took work from A\n",
      "B is done with the task\n",
      "         94 function calls in 0.079 seconds\n",
      "\n",
      "   Ordered by: standard name\n",
      "\n",
      "   ncalls  tottime  percall  cumtime  percall filename:lineno(function)\n",
      "        1    0.000    0.000    0.079    0.079 <ipython-input-29-b05c8878d790>:1(A)\n",
      "        1    0.079    0.079    0.079    0.079 <ipython-input-29-b05c8878d790>:7(B)\n",
      "        1    0.000    0.000    0.079    0.079 <string>:1(<module>)\n",
      "        7    0.000    0.000    0.000    0.000 iostream.py:195(schedule)\n",
      "        6    0.000    0.000    0.000    0.000 iostream.py:308(_is_master_process)\n",
      "        6    0.000    0.000    0.000    0.000 iostream.py:321(_schedule_flush)\n",
      "        6    0.000    0.000    0.000    0.000 iostream.py:384(write)\n",
      "        7    0.000    0.000    0.000    0.000 iostream.py:91(_event_pipe)\n",
      "        7    0.000    0.000    0.000    0.000 socket.py:438(send)\n",
      "        7    0.000    0.000    0.000    0.000 threading.py:1017(_wait_for_tstate_lock)\n",
      "        7    0.000    0.000    0.000    0.000 threading.py:1071(is_alive)\n",
      "        7    0.000    0.000    0.000    0.000 threading.py:513(is_set)\n",
      "        1    0.000    0.000    0.079    0.079 {built-in method builtins.exec}\n",
      "        6    0.000    0.000    0.000    0.000 {built-in method builtins.isinstance}\n",
      "        3    0.000    0.000    0.000    0.000 {built-in method builtins.print}\n",
      "        6    0.000    0.000    0.000    0.000 {built-in method nt.getpid}\n",
      "        7    0.000    0.000    0.000    0.000 {method 'acquire' of '_thread.lock' objects}\n",
      "        7    0.000    0.000    0.000    0.000 {method 'append' of 'collections.deque' objects}\n",
      "        1    0.000    0.000    0.000    0.000 {method 'disable' of '_lsprof.Profiler' objects}\n",
      "\n",
      "\n"
     ]
    }
   ],
   "source": [
    "cProfile.run('A()')"
   ]
  },
  {
   "cell_type": "markdown",
   "id": "e099149b-d78f-4a30-95b4-f560a75950e6",
   "metadata": {},
   "source": [
    "____________________________________________"
   ]
  },
  {
   "cell_type": "markdown",
   "id": "8976145c-7580-4437-9e36-1d5c5cf00d9e",
   "metadata": {},
   "source": [
    "# Graphs and Trees"
   ]
  },
  {
   "cell_type": "markdown",
   "id": "ac7f2c9a-e6ae-4a5e-9def-b2a4f4a7feb2",
   "metadata": {},
   "source": [
    "*if you can formulate what you're working on as a graph problem, you're (atleast) halfway to solution*\n",
    "\n",
    "Terms: Graph, Nodes, Subgraph, weight, edges, forest, adjacency lists, adjacency matrices, membership, degree\n",
    "\n",
    "- Need to represent graphs as data structures somehow\n",
    "- Accessing elements of a `dict` or `set` can be assumed to take constant time. \n",
    "- sets are better than list when you have a dense data case, and you need to check u & v are neighbours. therefore sets are better to check membership. O(n)\n",
    "- lists are better when all you have to do is iterate over all neighbours, checking memership however is O(N(v))\n",
    "- bisection of sorted list\n",
    "\n",
    "__neighbourhood Function__\n",
    "N(v) : a function which is a containerized of the neighbours of v.\n",
    "\n",
    "\n",
    "\n",
    "Q) How can we represent a graph as a class?"
   ]
  },
  {
   "cell_type": "code",
   "execution_count": 2,
   "id": "23fcb91d-4578-449a-877c-549144224a02",
   "metadata": {},
   "outputs": [
    {
     "name": "stdout",
     "output_type": "stream",
     "text": [
      "100 -8948698321526034351\n"
     ]
    }
   ],
   "source": [
    "print(hash(100), hash(\"soup\"))"
   ]
  },
  {
   "cell_type": "code",
   "execution_count": 5,
   "id": "8354fcb5-cfe5-4ead-a8ad-a4992b199e45",
   "metadata": {},
   "outputs": [],
   "source": [
    "# special puprpose arrays with numpy\n",
    "\n",
    "import numpy as np"
   ]
  },
  {
   "cell_type": "code",
   "execution_count": 7,
   "id": "2b80c1fb-2357-4c6c-87e2-80ca551a13f2",
   "metadata": {},
   "outputs": [
    {
     "data": {
      "text/plain": [
       "[[0, 0, 0, 0, 0, 0, 0, 0, 0, 0],\n",
       " [0, 0, 0, 0, 0, 0, 0, 0, 0, 0],\n",
       " [0, 0, 0, 0, 0, 0, 0, 0, 0, 0],\n",
       " [0, 0, 0, 0, 0, 0, 0, 0, 0, 0],\n",
       " [0, 0, 0, 0, 0, 0, 0, 0, 0, 0],\n",
       " [0, 0, 0, 0, 0, 0, 0, 0, 0, 0],\n",
       " [0, 0, 0, 0, 0, 0, 0, 0, 0, 0],\n",
       " [0, 0, 0, 0, 0, 0, 0, 0, 0, 0],\n",
       " [0, 0, 0, 0, 0, 0, 0, 0, 0, 0],\n",
       " [0, 0, 0, 0, 0, 0, 0, 0, 0, 0]]"
      ]
     },
     "execution_count": 7,
     "metadata": {},
     "output_type": "execute_result"
    }
   ],
   "source": [
    "# using a list for creating adjacency matrix\n",
    "\n",
    "[[0]*10 for i in range(10)]"
   ]
  },
  {
   "cell_type": "code",
   "execution_count": 9,
   "id": "c99656d8-2adc-48c8-9f58-064a44be2544",
   "metadata": {},
   "outputs": [
    {
     "data": {
      "text/plain": [
       "array([[0., 0., 0., 0., 0., 0., 0., 0., 0., 0.],\n",
       "       [0., 0., 0., 0., 0., 0., 0., 0., 0., 0.],\n",
       "       [0., 0., 0., 0., 0., 0., 0., 0., 0., 0.],\n",
       "       [0., 0., 0., 0., 0., 0., 0., 0., 0., 0.],\n",
       "       [0., 0., 0., 0., 0., 0., 0., 0., 0., 0.],\n",
       "       [0., 0., 0., 0., 0., 0., 0., 0., 0., 0.],\n",
       "       [0., 0., 0., 0., 0., 0., 0., 0., 0., 0.],\n",
       "       [0., 0., 0., 0., 0., 0., 0., 0., 0., 0.],\n",
       "       [0., 0., 0., 0., 0., 0., 0., 0., 0., 0.],\n",
       "       [0., 0., 0., 0., 0., 0., 0., 0., 0., 0.]])"
      ]
     },
     "execution_count": 9,
     "metadata": {},
     "output_type": "execute_result"
    }
   ],
   "source": [
    "np.zeros([10,10])"
   ]
  },
  {
   "cell_type": "markdown",
   "id": "1c7cb4b2-0a76-4296-a9ef-276e873e499e",
   "metadata": {},
   "source": [
    "## Trees (A special case of graphs)"
   ]
  },
  {
   "cell_type": "code",
   "execution_count": 10,
   "id": "ff91d592-a5ac-46c9-bd88-89c2069d3332",
   "metadata": {},
   "outputs": [],
   "source": [
    "# Binary Tree Class\n",
    "\n",
    "class Tree:\n",
    "    \n",
    "    def __init__(self, left, right):\n",
    "        self.left=left\n",
    "        self.right=right\n",
    "        "
   ]
  },
  {
   "cell_type": "code",
   "execution_count": 11,
   "id": "89a0d31a-ff4d-476b-b08d-68015ab382a8",
   "metadata": {},
   "outputs": [],
   "source": [
    "t=Tree(Tree(\"a\",\"b\"), Tree(\"c\",\"d\"))"
   ]
  },
  {
   "cell_type": "code",
   "execution_count": 12,
   "id": "c039687d-c2e0-402c-82df-4d6bb94026d2",
   "metadata": {},
   "outputs": [
    {
     "data": {
      "text/plain": [
       "'c'"
      ]
     },
     "execution_count": 12,
     "metadata": {},
     "output_type": "execute_result"
    }
   ],
   "source": [
    "t.right.left"
   ]
  },
  {
   "cell_type": "code",
   "execution_count": 13,
   "id": "dce93c0e-cb14-42f6-8a1f-33ce59a220a2",
   "metadata": {},
   "outputs": [
    {
     "data": {
      "text/plain": [
       "'b'"
      ]
     },
     "execution_count": 13,
     "metadata": {},
     "output_type": "execute_result"
    }
   ],
   "source": [
    "t.left.right"
   ]
  },
  {
   "cell_type": "code",
   "execution_count": 14,
   "id": "d7451b7b-99f2-46a9-8356-826e392ea5ee",
   "metadata": {},
   "outputs": [
    {
     "data": {
      "text/plain": [
       "'a'"
      ]
     },
     "execution_count": 14,
     "metadata": {},
     "output_type": "execute_result"
    }
   ],
   "source": [
    "t.left.left"
   ]
  },
  {
   "cell_type": "code",
   "execution_count": 17,
   "id": "1d1d88bf-d30c-4561-a9dc-419186bfaba6",
   "metadata": {},
   "outputs": [],
   "source": [
    "# first child, next sibling\n",
    "\n",
    "class Tree:\n",
    "    \n",
    "    def __init__(self, kids, next=None):\n",
    "        self.kids=self.val=kids #kids is val as well as kids # val here, is descriptive name\n",
    "        self.next=next\n",
    "        \n",
    "# here each node has two 'pointers' or attributes referring other nodes. \n",
    "# the first pointer/attribute referes to the child of node\n",
    "# the second refers its sibling"
   ]
  },
  {
   "cell_type": "code",
   "execution_count": 19,
   "id": "a0b25521-db59-4e01-8ef1-5c38a916247e",
   "metadata": {},
   "outputs": [],
   "source": [
    "t=Tree(\n",
    "    Tree(\n",
    "        \"a\", Tree(\n",
    "            \"b\", Tree(\n",
    "            \"c\", Tree(\n",
    "                \"d\")))))\n"
   ]
  },
  {
   "cell_type": "markdown",
   "id": "e86fd819-a9a9-46fa-aff0-7f97ba87396f",
   "metadata": {},
   "source": [
    "__BUNCH Pattern__\n",
    "\n",
    "- Useful for protyping data structures.\n",
    "- You can set attributes in the constructor\n",
    "- You can create and set attributes to this class as you wish\n",
    "- You inherit `dict` class to access `dict` methods\n",
    "- You access attributes like a dicitonary if needed. \n",
    "\n"
   ]
  },
  {
   "cell_type": "code",
   "execution_count": 21,
   "id": "a3af1f47-8b15-4469-acd1-5bd6a521e34b",
   "metadata": {},
   "outputs": [],
   "source": [
    "class Bunch (dict):\n",
    "    \n",
    "    def __init__(self, *args,**kwds):\n",
    "        super(Bunch, self).__init__(*args,**kwds)\n",
    "        self.__dict__=self\n",
    "        "
   ]
  },
  {
   "cell_type": "code",
   "execution_count": 22,
   "id": "6e8276ca-ac21-4736-98f5-6eb8b08c58de",
   "metadata": {},
   "outputs": [],
   "source": [
    "T=Bunch\n",
    "t=T(left=T(left=\"a\",right=\"b\"), right=T(left=\"c\"))"
   ]
  },
  {
   "cell_type": "code",
   "execution_count": 23,
   "id": "ba1953b3-30e8-4255-90c9-936cb21308ca",
   "metadata": {},
   "outputs": [
    {
     "data": {
      "text/plain": [
       "{'left': 'a', 'right': 'b'}"
      ]
     },
     "execution_count": 23,
     "metadata": {},
     "output_type": "execute_result"
    }
   ],
   "source": [
    "t.left"
   ]
  },
  {
   "cell_type": "code",
   "execution_count": 24,
   "id": "7fb09cd7-f86c-4a5d-9f75-105199064bc3",
   "metadata": {},
   "outputs": [
    {
     "data": {
      "text/plain": [
       "{'left': 'a', 'right': 'b'}"
      ]
     },
     "execution_count": 24,
     "metadata": {},
     "output_type": "execute_result"
    }
   ],
   "source": [
    "t['left']"
   ]
  },
  {
   "cell_type": "markdown",
   "id": "57d4e26f-4ec9-4aa1-b92b-bc13ae2fa270",
   "metadata": {},
   "source": [
    "____________________________________________"
   ]
  },
  {
   "cell_type": "markdown",
   "id": "51850941-4ff7-4a9e-8e76-84f65c92ecef",
   "metadata": {},
   "source": [
    "### Multiple of representations:\n",
    "\n",
    "1. Adjacency Matrix \\\n",
    "   looking up the edge(u,v): O(1) \\\n",
    "   iteration over v's neightbors: O(n)\n",
    "\n",
    "2. Adjacency Lists \\\n",
    "   looking up the edge(u,v): O(d(v)) \\\n",
    "   iteration over v's neightbors: O(d(v)) \\\n",
    "   where, d: order of the number of the neighbours the node has. \n",
    "   \n",
    "\n",
    "Tips:\n",
    "\n",
    "- when performance is important, use profiling, your intuition may be well wrong. \n",
    "- when correctness is critical, calculate answer with more than one method."
   ]
  },
  {
   "cell_type": "markdown",
   "id": "6a60ce3e-c147-461d-8243-8b0941875521",
   "metadata": {},
   "source": [
    "### Traps"
   ]
  },
  {
   "cell_type": "code",
   "execution_count": null,
   "id": "dbf2eb3f-a506-4a01-a8f6-dc5f70879370",
   "metadata": {},
   "outputs": [],
   "source": []
  },
  {
   "cell_type": "code",
   "execution_count": null,
   "id": "44f3381d-2727-45bd-9e7a-d9e3b0a1889e",
   "metadata": {},
   "outputs": [],
   "source": []
  },
  {
   "cell_type": "code",
   "execution_count": null,
   "id": "922b3d46-9ebb-40d1-b781-17a9e8ac38fb",
   "metadata": {},
   "outputs": [],
   "source": []
  },
  {
   "cell_type": "code",
   "execution_count": null,
   "id": "86bfecc2-279c-45ea-97b4-11ed74eede8f",
   "metadata": {},
   "outputs": [],
   "source": []
  },
  {
   "cell_type": "code",
   "execution_count": null,
   "id": "6377b654-9e0f-4e7a-aea9-eda6805be478",
   "metadata": {},
   "outputs": [],
   "source": []
  },
  {
   "cell_type": "code",
   "execution_count": null,
   "id": "75c42205-ff3e-4848-86f9-1f1c30674424",
   "metadata": {},
   "outputs": [],
   "source": []
  }
 ],
 "metadata": {
  "kernelspec": {
   "display_name": "Python 3",
   "language": "python",
   "name": "python3"
  },
  "language_info": {
   "codemirror_mode": {
    "name": "ipython",
    "version": 3
   },
   "file_extension": ".py",
   "mimetype": "text/x-python",
   "name": "python",
   "nbconvert_exporter": "python",
   "pygments_lexer": "ipython3",
   "version": "3.8.10"
  }
 },
 "nbformat": 4,
 "nbformat_minor": 5
}
