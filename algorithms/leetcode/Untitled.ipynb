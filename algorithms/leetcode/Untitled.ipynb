{
 "cells": [
  {
   "cell_type": "code",
   "execution_count": 37,
   "id": "b6975c82-ead7-423c-8f94-63b102d445e9",
   "metadata": {},
   "outputs": [],
   "source": [
    "from typing import List\n",
    "\n",
    "class Solution:\n",
    "    \n",
    "    \n",
    "    def numUniqueEmails(self, emails: List[str]) -> int:        \n",
    "        \n",
    "        clean_locals = [self.split_string(\n",
    "            self.split_string(i,'@',0),\"+\",0).replace('.','') for i in emails]\n",
    "        \n",
    "        domains = [self.split_string(i,'@',1) for i in emails]\n",
    "        \n",
    "        return len(set(list(zip(clean_locals,domains))))\n",
    "\n",
    "        \n",
    "    def split_string(self,string_value, separator, return_type=2):\n",
    "        \n",
    "        if separator in string_value:\n",
    "            left, right = string_value.split(separator)[0], \\\n",
    "                      string_value.split(separator)[1]\n",
    "        else:\n",
    "            left,right = string_value, string_value\n",
    "            \n",
    "        if return_type==0:\n",
    "            return left\n",
    "        elif return_type==1:\n",
    "            return right\n",
    "        return left, right\n",
    "        \n"
   ]
  },
  {
   "cell_type": "code",
   "execution_count": 38,
   "id": "56b75e21-30ef-4e52-b631-ba1c34054848",
   "metadata": {},
   "outputs": [
    {
     "data": {
      "text/plain": [
       "3"
      ]
     },
     "execution_count": 38,
     "metadata": {},
     "output_type": "execute_result"
    }
   ],
   "source": [
    "x=[\"a@leetcode.com\",\"b@leetcode.com\",\"c@leetcode.com\"]\n",
    "\n",
    "Solution().numUniqueEmails(x\n",
    "                          )\n"
   ]
  },
  {
   "cell_type": "code",
   "execution_count": null,
   "id": "ec4d70e0-c138-4e0a-bf5b-eb71bc021526",
   "metadata": {},
   "outputs": [],
   "source": []
  }
 ],
 "metadata": {
  "kernelspec": {
   "display_name": "Python 3 (ipykernel)",
   "language": "python",
   "name": "python3"
  },
  "language_info": {
   "codemirror_mode": {
    "name": "ipython",
    "version": 3
   },
   "file_extension": ".py",
   "mimetype": "text/x-python",
   "name": "python",
   "nbconvert_exporter": "python",
   "pygments_lexer": "ipython3",
   "version": "3.9.1"
  }
 },
 "nbformat": 4,
 "nbformat_minor": 5
}
