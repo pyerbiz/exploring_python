{
 "cells": [
  {
   "cell_type": "markdown",
   "id": "c5c16f27-981b-49f0-a7a6-a67fcc142772",
   "metadata": {},
   "source": [
    "## This notebook is about the basic stuff in algorithms -- using Python\n",
    "\n",
    "- important modules: cProfile, timeit\n",
    "- simple implementation of data structures like list\n",
    "- some graph algorithms"
   ]
  },
  {
   "cell_type": "code",
   "execution_count": 4,
   "id": "f825e794-174b-44d3-bc38-ae19aa5e03f7",
   "metadata": {},
   "outputs": [],
   "source": [
    "# linked list\n",
    "# lessons learned: important to note here that the inner arguments are class instances themselves. Hence when you use `next.value`\\\n",
    "#                   you are calling a nested class instance that has a value assigned. If you keep calling next -- you will reach the end of the linked list, \n",
    "#                    and the last element's value is none\n",
    "\n",
    "# accesing an element in linked list is slow (traverse the list from beginning) -- inserting an item is fast\n",
    "# directly accessing an element in array is fast -- inserting an item is slow. append an item at end of array can be made fast with 'dynamic array/vector' \n",
    "# -- where you take a large enough list such that it can be reallocated in memory when it overflows.\n",
    "\n",
    "\n",
    "class Node: \n",
    "    \n",
    "    def __init__(self, value,next_=None):\n",
    "        self.value=value\n",
    "        self.next=next_\n",
    "        "
   ]
  },
  {
   "cell_type": "code",
   "execution_count": 5,
   "id": "15fba9f1-8ee0-43d1-a36d-63d15529fc88",
   "metadata": {},
   "outputs": [],
   "source": [
    "L=Node(1)"
   ]
  },
  {
   "cell_type": "code",
   "execution_count": 6,
   "id": "3178de6f-334b-43e7-908b-60dd2a5f9762",
   "metadata": {},
   "outputs": [
    {
     "data": {
      "text/plain": [
       "1"
      ]
     },
     "execution_count": 6,
     "metadata": {},
     "output_type": "execute_result"
    }
   ],
   "source": [
    "L.value"
   ]
  },
  {
   "cell_type": "code",
   "execution_count": 7,
   "id": "2c5da85b-ba07-4833-8adb-88228109a11b",
   "metadata": {},
   "outputs": [],
   "source": [
    "# enter data into a linked list\n",
    "\n",
    "LL = Node(1,Node(2, Node(3, Node(4, Node(5)))))\n",
    "\n"
   ]
  },
  {
   "cell_type": "code",
   "execution_count": 13,
   "id": "4852b25f-3051-47d7-89fe-9ff9b4eb7919",
   "metadata": {},
   "outputs": [
    {
     "data": {
      "text/plain": [
       "1"
      ]
     },
     "execution_count": 13,
     "metadata": {},
     "output_type": "execute_result"
    }
   ],
   "source": [
    "LL.value"
   ]
  },
  {
   "cell_type": "code",
   "execution_count": 16,
   "id": "6ed7f745-447d-43fa-8bdb-f4c095891b02",
   "metadata": {},
   "outputs": [
    {
     "name": "stdout",
     "output_type": "stream",
     "text": [
      "1\n",
      "2\n",
      "3\n",
      "4\n",
      "5\n"
     ]
    }
   ],
   "source": [
    "print(LL.value)\n",
    "print(LL.next.value)\n",
    "print(LL.next.next.value)\n",
    "print(LL.next.next.next.value)\n",
    "print(LL.next.next.next.next.value)"
   ]
  },
  {
   "cell_type": "code",
   "execution_count": 17,
   "id": "ebf66402-389c-48e6-bc41-a41927b3111b",
   "metadata": {},
   "outputs": [
    {
     "name": "stdout",
     "output_type": "stream",
     "text": [
      "1\n",
      "<__main__.Node object at 0x000001CF2B0C8D00>\n",
      "<__main__.Node object at 0x000001CF2B0C8AF0>\n",
      "<__main__.Node object at 0x000001CF2B0C87F0>\n",
      "<__main__.Node object at 0x000001CF2B0C88B0>\n"
     ]
    }
   ],
   "source": [
    "print(LL.value)\n",
    "print(LL.next)\n",
    "print(LL.next.next)\n",
    "print(LL.next.next.next)\n",
    "print(LL.next.next.next.next)"
   ]
  },
  {
   "cell_type": "code",
   "execution_count": 21,
   "id": "54a78ca7-ea77-4e93-9688-91503ad5b094",
   "metadata": {},
   "outputs": [
    {
     "name": "stdout",
     "output_type": "stream",
     "text": [
      "None\n"
     ]
    }
   ],
   "source": [
    "print(LL.next.next.next.next.next)"
   ]
  },
  {
   "cell_type": "markdown",
   "id": "1c37acfe-b9ae-418a-912e-79d0b8306225",
   "metadata": {},
   "source": [
    "--------------------------------------------------------------------"
   ]
  },
  {
   "cell_type": "code",
   "execution_count": 22,
   "id": "82f15a5b-1d5c-4c29-b7c0-236d6c166ed9",
   "metadata": {},
   "outputs": [],
   "source": [
    "import timeit\n",
    "# Caution:\n",
    "# repeated execution side effects (sorting a list)"
   ]
  },
  {
   "cell_type": "code",
   "execution_count": 23,
   "id": "d452977b-2a81-4dfc-a92b-3165054df8ac",
   "metadata": {},
   "outputs": [
    {
     "data": {
      "text/plain": [
       "0.027243700000099125"
      ]
     },
     "execution_count": 23,
     "metadata": {},
     "output_type": "execute_result"
    }
   ],
   "source": [
    "timeit.timeit(\"x=2+2\")"
   ]
  },
  {
   "cell_type": "code",
   "execution_count": 24,
   "id": "4842fc32-3a70-444b-bb40-b088ed33edae",
   "metadata": {},
   "outputs": [],
   "source": [
    "import cProfile"
   ]
  },
  {
   "cell_type": "code",
   "execution_count": 29,
   "id": "3f4221c2-fc5d-40a9-a2d5-8cfd3c933557",
   "metadata": {},
   "outputs": [],
   "source": [
    "def A():\n",
    "    print (\"I'm A I just, call B\")\n",
    "    B(1000000)\n",
    "    print (\"B is done with the task\")\n",
    "    return 0\n",
    "\n",
    "def B(num):\n",
    "    \n",
    "    print (\"I'm B i just took work from A\")\n",
    "    for i in range(num):\n",
    "        f=i/10\n",
    "    \n",
    "    return 0\n",
    "    \n",
    "    \n",
    "    "
   ]
  },
  {
   "cell_type": "code",
   "execution_count": 30,
   "id": "f221b12a-5bba-435c-9f43-853752126a2e",
   "metadata": {},
   "outputs": [
    {
     "name": "stdout",
     "output_type": "stream",
     "text": [
      "I'm A I just, call B\n",
      "I'm B i just took work from A\n",
      "B is done with the task\n",
      "         94 function calls in 0.079 seconds\n",
      "\n",
      "   Ordered by: standard name\n",
      "\n",
      "   ncalls  tottime  percall  cumtime  percall filename:lineno(function)\n",
      "        1    0.000    0.000    0.079    0.079 <ipython-input-29-b05c8878d790>:1(A)\n",
      "        1    0.079    0.079    0.079    0.079 <ipython-input-29-b05c8878d790>:7(B)\n",
      "        1    0.000    0.000    0.079    0.079 <string>:1(<module>)\n",
      "        7    0.000    0.000    0.000    0.000 iostream.py:195(schedule)\n",
      "        6    0.000    0.000    0.000    0.000 iostream.py:308(_is_master_process)\n",
      "        6    0.000    0.000    0.000    0.000 iostream.py:321(_schedule_flush)\n",
      "        6    0.000    0.000    0.000    0.000 iostream.py:384(write)\n",
      "        7    0.000    0.000    0.000    0.000 iostream.py:91(_event_pipe)\n",
      "        7    0.000    0.000    0.000    0.000 socket.py:438(send)\n",
      "        7    0.000    0.000    0.000    0.000 threading.py:1017(_wait_for_tstate_lock)\n",
      "        7    0.000    0.000    0.000    0.000 threading.py:1071(is_alive)\n",
      "        7    0.000    0.000    0.000    0.000 threading.py:513(is_set)\n",
      "        1    0.000    0.000    0.079    0.079 {built-in method builtins.exec}\n",
      "        6    0.000    0.000    0.000    0.000 {built-in method builtins.isinstance}\n",
      "        3    0.000    0.000    0.000    0.000 {built-in method builtins.print}\n",
      "        6    0.000    0.000    0.000    0.000 {built-in method nt.getpid}\n",
      "        7    0.000    0.000    0.000    0.000 {method 'acquire' of '_thread.lock' objects}\n",
      "        7    0.000    0.000    0.000    0.000 {method 'append' of 'collections.deque' objects}\n",
      "        1    0.000    0.000    0.000    0.000 {method 'disable' of '_lsprof.Profiler' objects}\n",
      "\n",
      "\n"
     ]
    }
   ],
   "source": [
    "cProfile.run('A()')"
   ]
  },
  {
   "cell_type": "code",
   "execution_count": null,
   "id": "f94f210d-5415-4939-92c3-fb9ad351538b",
   "metadata": {},
   "outputs": [],
   "source": []
  }
 ],
 "metadata": {
  "kernelspec": {
   "display_name": "Python 3",
   "language": "python",
   "name": "python3"
  },
  "language_info": {
   "codemirror_mode": {
    "name": "ipython",
    "version": 3
   },
   "file_extension": ".py",
   "mimetype": "text/x-python",
   "name": "python",
   "nbconvert_exporter": "python",
   "pygments_lexer": "ipython3",
   "version": "3.8.10"
  }
 },
 "nbformat": 4,
 "nbformat_minor": 5
}
